{
  "nbformat": 4,
  "nbformat_minor": 0,
  "metadata": {
    "colab": {
      "name": "Hw_4.ipynb",
      "provenance": []
    },
    "kernelspec": {
      "name": "python3",
      "display_name": "Python 3"
    },
    "language_info": {
      "name": "python"
    }
  },
  "cells": [
    {
      "cell_type": "code",
      "metadata": {
        "id": "3l1320ACr8lP"
      },
      "source": [
        "# 628. Maximum Product of Three Numbers\n",
        "# Input: nums = [1,2,3],Output: 6\n",
        "def maxproduct(nums):\n",
        "  sort_num=sorted(nums)\n",
        "  print(sort_num)\n",
        "  product1=sort_num[0]*sort_num[1]*sort_num[-1]\n",
        "  print(product1)\n",
        "  product2=sort_num[-1]*sort_num[-2]*sort_num[-3]\n",
        "  print(product2)\n",
        "  return max(product1, product2)"
      ],
      "execution_count": 3,
      "outputs": []
    },
    {
      "cell_type": "code",
      "metadata": {
        "colab": {
          "base_uri": "https://localhost:8080/"
        },
        "id": "ueNJ0_GtBlkC",
        "outputId": "5b5d9eef-d885-42b6-f5f3-bb7a8978fc21"
      },
      "source": [
        "maxproduct([-1,-4,-6,-2])"
      ],
      "execution_count": 4,
      "outputs": [
        {
          "output_type": "stream",
          "text": [
            "[-6, -4, -2, -1]\n",
            "-24\n",
            "-8\n"
          ],
          "name": "stdout"
        },
        {
          "output_type": "execute_result",
          "data": {
            "text/plain": [
              "-8"
            ]
          },
          "metadata": {
            "tags": []
          },
          "execution_count": 4
        }
      ]
    },
    {
      "cell_type": "code",
      "metadata": {
        "id": "vcc1X2a9tHrO"
      },
      "source": [
        "# 1672. Richest Customer Wealth\n",
        "#Input: accounts = [[1,2,3],[3,2,1]]; Output: 6\n",
        "def maximumWealth(accounts):\n",
        "  total=[]\n",
        "  for i in range(len(accounts)):\n",
        "    wealth= sum(accounts[i])\n",
        "    total.append(wealth)\n",
        "    #print(wealth)\n",
        "  #wealth2=sum(accounts[1])\n",
        "  #print(wealth2)\n",
        "  #total.append(wealth2)\n",
        "  return max(total)"
      ],
      "execution_count": 5,
      "outputs": []
    },
    {
      "cell_type": "code",
      "metadata": {
        "colab": {
          "base_uri": "https://localhost:8080/"
        },
        "id": "1Ts5gW0qzhAP",
        "outputId": "dd5759da-c762-4eba-bf7c-b84744517079"
      },
      "source": [
        "maximumWealth([[1,2,3],[3,2,8,7],[7,8,9,1]])\n"
      ],
      "execution_count": 6,
      "outputs": [
        {
          "output_type": "execute_result",
          "data": {
            "text/plain": [
              "25"
            ]
          },
          "metadata": {
            "tags": []
          },
          "execution_count": 6
        }
      ]
    },
    {
      "cell_type": "code",
      "metadata": {
        "id": "KoJfSmjE42w2"
      },
      "source": [
        "#1470. Shuffle the Array\n",
        "#Input: nums = [2,5,1,3,4,7], n = 3\n",
        "#Output: [2,3,5,4,1,7] \n",
        "def shuffle(nums,n):\n",
        "  arry=[]\n",
        "  for i in range(n):\n",
        "    new=nums[i]\n",
        "    print(new)\n",
        "    arry.append(new)\n",
        "    new1=nums[n+i]\n",
        "    print(new1)\n",
        "    arry.append(new1)\n",
        "  print(arry)\n"
      ],
      "execution_count": 7,
      "outputs": []
    },
    {
      "cell_type": "code",
      "metadata": {
        "colab": {
          "base_uri": "https://localhost:8080/"
        },
        "id": "15PFNFlAB5No",
        "outputId": "f83637bf-78e1-4e5f-8e78-60237093af83"
      },
      "source": [
        "shuffle([2,5,1,3,4,7],3)"
      ],
      "execution_count": 8,
      "outputs": [
        {
          "output_type": "stream",
          "text": [
            "2\n",
            "3\n",
            "5\n",
            "4\n",
            "1\n",
            "7\n",
            "[2, 3, 5, 4, 1, 7]\n"
          ],
          "name": "stdout"
        }
      ]
    },
    {
      "cell_type": "code",
      "metadata": {
        "id": "mzQGzpVuWvsz"
      },
      "source": [
        "# 367. Valid Perfect Square\n",
        "#Input: num = 16, Output: true\n",
        "def isPerfectSquare(num):\n",
        "  a=(num)**0.5\n",
        "  b=int (a)\n",
        "  if (b*b==num):\n",
        "    return True\n",
        "  else:\n",
        "    return False\n"
      ],
      "execution_count": 9,
      "outputs": []
    },
    {
      "cell_type": "code",
      "metadata": {
        "colab": {
          "base_uri": "https://localhost:8080/"
        },
        "id": "z1EnpRLcB_qh",
        "outputId": "4a0bdf3e-f68c-4967-ef97-950042057b6e"
      },
      "source": [
        "isPerfectSquare(14)"
      ],
      "execution_count": 10,
      "outputs": [
        {
          "output_type": "execute_result",
          "data": {
            "text/plain": [
              "False"
            ]
          },
          "metadata": {
            "tags": []
          },
          "execution_count": 10
        }
      ]
    }
  ]
}