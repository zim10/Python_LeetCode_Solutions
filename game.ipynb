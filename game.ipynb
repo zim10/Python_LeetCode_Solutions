{
  "nbformat": 4,
  "nbformat_minor": 0,
  "metadata": {
    "colab": {
      "name": "game.ipynb",
      "provenance": []
    },
    "kernelspec": {
      "name": "python3",
      "display_name": "Python 3"
    },
    "language_info": {
      "name": "python"
    },
    "accelerator": "TPU"
  },
  "cells": [
    {
      "cell_type": "code",
      "metadata": {
        "id": "Milx5OveRBvI"
      },
      "source": [
        "board=[\"-\",\"-\",\"-\",\n",
        "       \"-\",\"-\",\"-\",\n",
        "       \"-\",\"-\",\"-\"]\n",
        "game_still_going= True\n",
        "winner= None\n",
        "current_player = \"X\"\n"
      ],
      "execution_count": 86,
      "outputs": []
    },
    {
      "cell_type": "code",
      "metadata": {
        "id": "sMYvD8w9sJu9"
      },
      "source": [
        "def display_board():\n",
        "  print(board[0] + \" | \" +board[1] + \" | \" + board[2] + \"     1 | 2 | 3\")\n",
        "  print(board[3] + \" | \" +board[4] + \" | \" + board[5] + \"     4 | 5 | 6\")\n",
        "  print(board[6] + \" | \" +board[7] + \" | \" + board[8] + \"     7 | 8 | 9\")\n",
        "  print(\"\\n\")"
      ],
      "execution_count": 87,
      "outputs": []
    },
    {
      "cell_type": "code",
      "metadata": {
        "id": "KuHGE-_PjmJK"
      },
      "source": [
        "def check_rows():\n",
        "  global game_still_going\n",
        "  row_1 = board[0] == board[1] == board[2] != \"-\"\n",
        "  row_2 = board[3] == board[4] == board[5] != \"-\"\n",
        "  row_3 = board[6] == board[7] == board[8] != \"-\"\n",
        "  if row_1 or row_2 or row_3:\n",
        "    game_still_going= False\n",
        "  if row_1:\n",
        "    return board[0]\n",
        "  elif row_2:\n",
        "    return board[3]\n",
        "  elif row_3:\n",
        "    return board[6]\n",
        "  else:\n",
        "    return None"
      ],
      "execution_count": 88,
      "outputs": []
    },
    {
      "cell_type": "code",
      "metadata": {
        "id": "CxN9zahSyQVm"
      },
      "source": [
        "def check_columns():\n",
        "  global game_still_going\n",
        "  column_1 = board[0] == board[3] == board[6] != \"-\"\n",
        "  column_2 = board[1] == board[4] == board[7] != \"-\"\n",
        "  column_3 = board[2] == board[5] == board[8] != \"-\"\n",
        "  if column_1 or column_2 or column_3:\n",
        "    game_still_going= False\n",
        "  if column_1:\n",
        "    return board[0]\n",
        "  elif column_2:\n",
        "    return board[1]\n",
        "  elif column_3:\n",
        "    return board[2]\n",
        "  else:\n",
        "    return None"
      ],
      "execution_count": 89,
      "outputs": []
    },
    {
      "cell_type": "code",
      "metadata": {
        "id": "WK6jPc0lyR2b"
      },
      "source": [
        "def check_diagonals():\n",
        "    global game_still_going\n",
        "    diagonal_1 = board[0] == board[4] == board[8] != \"-\"\n",
        "    diagonal_2 = board[2] == board[4] == board[6] != \"-\"\n",
        "    if diagonal_1 or diagonal_2 :\n",
        "       game_still_going= False\n",
        "    if diagonal_1:\n",
        "       return board[0]\n",
        "    elif diagonal_2:\n",
        "         return board[2]\n",
        "    else:\n",
        "        return None"
      ],
      "execution_count": 90,
      "outputs": []
    },
    {
      "cell_type": "code",
      "metadata": {
        "id": "KALZoLbIVl8q"
      },
      "source": [
        "def check_for_winner():\n",
        "  # check rows, check columns, check diagonals\n",
        "    global winner\n",
        "    row_winner=check_rows()\n",
        "    column_winner=check_columns()\n",
        "    diagonal_winner=check_diagonals()\n",
        "    if row_winner:\n",
        "       winner=row_winner\n",
        "    elif column_winner:\n",
        "         winner=column_winner\n",
        "    elif diagonal_winner:\n",
        "         winner=diagonal_winner\n",
        "    else:\n",
        "         winner = None"
      ],
      "execution_count": 91,
      "outputs": []
    },
    {
      "cell_type": "code",
      "metadata": {
        "id": "FOS_C0YFVwqv"
      },
      "source": [
        "def check_if_tie():\n",
        "    global game_still_going\n",
        "    if '-' not in board:\n",
        "       game_still_going= False\n",
        "       return True\n",
        "    else:\n",
        "       return False"
      ],
      "execution_count": 92,
      "outputs": []
    },
    {
      "cell_type": "code",
      "metadata": {
        "id": "UIV_l7XjUmTI"
      },
      "source": [
        "def check_if_game_over():\n",
        "  check_for_winner()\n",
        "  check_if_tie()"
      ],
      "execution_count": 93,
      "outputs": []
    },
    {
      "cell_type": "code",
      "metadata": {
        "id": "W8nJucacV9_v"
      },
      "source": [
        "def flip_player():\n",
        "    global current_player\n",
        "    if current_player == \"X\":\n",
        "       current_player=\"O\"\n",
        "    elif current_player == \"O\":\n",
        "       current_player=\"X\""
      ],
      "execution_count": 94,
      "outputs": []
    },
    {
      "cell_type": "code",
      "metadata": {
        "id": "6mCwYUZJTmUC"
      },
      "source": [
        "def handle_turn(player):\n",
        "    print(player + \"'s turn.\")\n",
        "    position=input(\" choose a position from 1-9: \")\n",
        "    valid= False\n",
        "    while not valid:\n",
        "      while position not in [\"1\", \"2\", \"3\", \"4\" ,\"5\" ,\"6\" ,\"7\" ,\"8\" ,\"9\"]:\n",
        "        position=input(\"Choose a postion from 1-9: \")\n",
        "      position=int(position)- 1\n",
        "      if board[position] == \"-\":\n",
        "        valid= True\n",
        "      else:\n",
        "        print(\"you can't go there, go again.\")\n",
        "    board[position] = player\n",
        "    display_board()"
      ],
      "execution_count": 95,
      "outputs": []
    },
    {
      "cell_type": "code",
      "metadata": {
        "id": "U-Gfp5kkTDWO"
      },
      "source": [
        "def play_game():\n",
        "    display_board()\n",
        "    while game_still_going:\n",
        "          handle_turn(current_player)\n",
        "          check_if_game_over()\n",
        "          flip_player()\n",
        "  #the game has ended\n",
        "    if winner == \" X \" or winner == \"O\" :\n",
        "       print(winner + \"won.\")\n",
        "    elif winner == None:\n",
        "         print(\"Tie.\")\n",
        "\n",
        "\n"
      ],
      "execution_count": 96,
      "outputs": []
    },
    {
      "cell_type": "code",
      "metadata": {
        "colab": {
          "base_uri": "https://localhost:8080/"
        },
        "id": "zv9-fIoHWoI6",
        "outputId": "e1908184-9bbe-4c03-a278-c3c57f27034e"
      },
      "source": [
        "play_game()"
      ],
      "execution_count": 97,
      "outputs": [
        {
          "output_type": "stream",
          "text": [
            "- | - | -     1 | 2 | 3\n",
            "- | - | -     4 | 5 | 6\n",
            "- | - | -     7 | 8 | 9\n",
            "\n",
            "\n",
            "X's turn.\n",
            " choose a position from 1-9: 3\n",
            "- | - | X     1 | 2 | 3\n",
            "- | - | -     4 | 5 | 6\n",
            "- | - | -     7 | 8 | 9\n",
            "\n",
            "\n",
            "O's turn.\n",
            " choose a position from 1-9: 1\n",
            "O | - | X     1 | 2 | 3\n",
            "- | - | -     4 | 5 | 6\n",
            "- | - | -     7 | 8 | 9\n",
            "\n",
            "\n",
            "X's turn.\n",
            " choose a position from 1-9: 6\n",
            "O | - | X     1 | 2 | 3\n",
            "- | - | X     4 | 5 | 6\n",
            "- | - | -     7 | 8 | 9\n",
            "\n",
            "\n",
            "O's turn.\n",
            " choose a position from 1-9: 2\n",
            "O | O | X     1 | 2 | 3\n",
            "- | - | X     4 | 5 | 6\n",
            "- | - | -     7 | 8 | 9\n",
            "\n",
            "\n",
            "X's turn.\n",
            " choose a position from 1-9: 9\n",
            "O | O | X     1 | 2 | 3\n",
            "- | - | X     4 | 5 | 6\n",
            "- | - | X     7 | 8 | 9\n",
            "\n",
            "\n"
          ],
          "name": "stdout"
        }
      ]
    }
  ]
}